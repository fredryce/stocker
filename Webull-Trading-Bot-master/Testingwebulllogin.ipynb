{
 "cells": [
  {
   "cell_type": "code",
   "execution_count": 1,
   "id": "9184c588",
   "metadata": {},
   "outputs": [],
   "source": [
    "from webull import paper_webull, endpoints # for real money trading, just import 'webull' instead\n",
    "from webull.streamconn import StreamConn\n",
    "import json\n",
    "import trendln\n",
    "import matplotlib\n",
    "import matplotlib.pyplot as plt\n",
    "import matplotlib.dates as mdates\n",
    "matplotlib.interactive(True)\n",
    "import numpy as np\n",
    "import pandas as pd\n",
    "from datetime import datetime\n",
    "import sched\n",
    "import time"
   ]
  },
  {
   "cell_type": "code",
   "execution_count": 2,
   "id": "f5368c91",
   "metadata": {},
   "outputs": [
    {
     "name": "stdout",
     "output_type": "stream",
     "text": [
      "Logging in to WeBull...\n",
      "First time login.\n"
     ]
    }
   ],
   "source": [
    "symbol = None\n",
    "period = None\n",
    "timeframe = None\n",
    "hist = []\n",
    "print(\"Logging in to WeBull...\")\n",
    "#login to Webull\n",
    "wb = paper_webull()\n",
    "f = None\n",
    "loginInfo = None\n",
    "try:\n",
    "    f = open(\"token.txt\", \"r\")\n",
    "    loginInfo = json.load(f)\n",
    "except:\n",
    "    print(\"First time login.\")\n",
    "    \n",
    "hist = None\n",
    "support = 0\n",
    "resistance = 0\n",
    "enteredTrade = False\n",
    "s = sched.scheduler(time.time, time.sleep)\n",
    "#If first time save login as token"
   ]
  },
  {
   "cell_type": "code",
   "execution_count": 3,
   "id": "e288222b",
   "metadata": {},
   "outputs": [
    {
     "data": {
      "text/plain": [
       "True"
      ]
     },
     "execution_count": 3,
     "metadata": {},
     "output_type": "execute_result"
    }
   ],
   "source": [
    "webull_email = 'xx6659@gmail.com'\n",
    "wb.get_mfa(webull_email) #mobile number should be okay as well"
   ]
  },
  {
   "cell_type": "code",
   "execution_count": 4,
   "id": "eac77eac",
   "metadata": {},
   "outputs": [
    {
     "name": "stdout",
     "output_type": "stream",
     "text": [
      "[{'questionId': '2004', 'questionName': 'Where was the first destination you travelled to by flight?'}]\n"
     ]
    }
   ],
   "source": [
    "print(wb.get_security(webull_email))"
   ]
  },
  {
   "cell_type": "code",
   "execution_count": 5,
   "id": "6d72f005",
   "metadata": {},
   "outputs": [
    {
     "data": {
      "text/plain": [
       "[{'questionId': '2004',\n",
       "  'questionName': 'Where was the first destination you travelled to by flight?'}]"
      ]
     },
     "execution_count": 5,
     "metadata": {},
     "output_type": "execute_result"
    }
   ],
   "source": [
    "#wb.next_security(webull_email)"
   ]
  },
  {
   "cell_type": "code",
   "execution_count": 5,
   "id": "9994aaeb",
   "metadata": {},
   "outputs": [],
   "source": [
    "loginInfo = wb.login(webull_email, 'N!f3iwu69', 'My Device', '719771', '2004', 'singapore')"
   ]
  },
  {
   "cell_type": "code",
   "execution_count": 6,
   "id": "31c2fb84",
   "metadata": {},
   "outputs": [
    {
     "data": {
      "text/plain": [
       "{'extInfo': {'userPwdFlag': '1'},\n",
       " 'accessToken': 'dc_us1.17919bd4a99-730cdc949a2c4e0f8e5af7c5b2f0033a',\n",
       " 'uuid': '177957f26f71ebb711433094d6a9c39e48ce4bff1e8',\n",
       " 'refreshToken': '17919bd4a99-847f7fc2537d48638c8e7ca79879089d',\n",
       " 'tokenExpireTime': '2021-06-27T18:28:26.393+0000',\n",
       " 'firstTimeOfThird': False,\n",
       " 'registerAddress': 6,\n",
       " 'settings': {'id': 413872711849488384,\n",
       "  'userId': 307802364,\n",
       "  'regionId': 6,\n",
       "  'language': 'en',\n",
       "  'focusMarketId': '2,3,4,5,6,14',\n",
       "  'theme': 2,\n",
       "  'increDecreColor': 2,\n",
       "  'fontSize': 'M',\n",
       "  'portfolioDisplayMode': 2,\n",
       "  'portfolioNameNewline': 1,\n",
       "  'portfolioHoldingsDisplay': 1,\n",
       "  'portfolioIndexDisplay': 1,\n",
       "  'portfolioBulletin': 1,\n",
       "  'kdata': 1,\n",
       "  'refreshFrequency': 1,\n",
       "  'shock': 0,\n",
       "  'tickerPriceRemind': 1,\n",
       "  'orderDealRemind': 1,\n",
       "  'hotNews': 1,\n",
       "  'chartOption': 2,\n",
       "  'operateTime': '1969-12-31T00:00:00.000+0000',\n",
       "  'languageUpdateTime': '1970-01-01T00:00:00.000+0000',\n",
       "  'createTime': '2021-02-12T09:07:54.000+0000',\n",
       "  'updateTime': '2021-02-12T09:07:54.000+0000',\n",
       "  'listStyle': 1}}"
      ]
     },
     "execution_count": 6,
     "metadata": {},
     "output_type": "execute_result"
    }
   ],
   "source": [
    "loginInfo"
   ]
  },
  {
   "cell_type": "code",
   "execution_count": 7,
   "id": "08a77f56",
   "metadata": {},
   "outputs": [
    {
     "name": "stdout",
     "output_type": "stream",
     "text": [
      "{'extInfo': {'userPwdFlag': '1'}, 'accessToken': 'dc_us1.17919bd4a99-730cdc949a2c4e0f8e5af7c5b2f0033a', 'uuid': '177957f26f71ebb711433094d6a9c39e48ce4bff1e8', 'refreshToken': '17919bd4a99-847f7fc2537d48638c8e7ca79879089d', 'tokenExpireTime': '2021-06-27T18:28:26.393+0000', 'firstTimeOfThird': False, 'registerAddress': 6, 'settings': {'id': 413872711849488384, 'userId': 307802364, 'regionId': 6, 'language': 'en', 'focusMarketId': '2,3,4,5,6,14', 'theme': 2, 'increDecreColor': 2, 'fontSize': 'M', 'portfolioDisplayMode': 2, 'portfolioNameNewline': 1, 'portfolioHoldingsDisplay': 1, 'portfolioIndexDisplay': 1, 'portfolioBulletin': 1, 'kdata': 1, 'refreshFrequency': 1, 'shock': 0, 'tickerPriceRemind': 1, 'orderDealRemind': 1, 'hotNews': 1, 'chartOption': 2, 'operateTime': '1969-12-31T00:00:00.000+0000', 'languageUpdateTime': '1970-01-01T00:00:00.000+0000', 'createTime': '2021-02-12T09:07:54.000+0000', 'updateTime': '2021-02-12T09:07:54.000+0000', 'listStyle': 1}}\n"
     ]
    }
   ],
   "source": [
    "print(loginInfo)\n",
    "f = open(\"token.txt\", \"w\")\n",
    "f.write(json.dumps(loginInfo))\n",
    "f.close()"
   ]
  },
  {
   "cell_type": "code",
   "execution_count": null,
   "id": "da6a984f",
   "metadata": {},
   "outputs": [],
   "source": []
  }
 ],
 "metadata": {
  "kernelspec": {
   "display_name": "Python 3",
   "language": "python",
   "name": "python3"
  },
  "language_info": {
   "codemirror_mode": {
    "name": "ipython",
    "version": 3
   },
   "file_extension": ".py",
   "mimetype": "text/x-python",
   "name": "python",
   "nbconvert_exporter": "python",
   "pygments_lexer": "ipython3",
   "version": "3.7.0"
  }
 },
 "nbformat": 4,
 "nbformat_minor": 5
}
